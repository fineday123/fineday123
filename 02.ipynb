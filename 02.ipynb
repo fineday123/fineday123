{
  "nbformat": 4,
  "nbformat_minor": 0,
  "metadata": {
    "colab": {
      "provenance": [],
      "authorship_tag": "ABX9TyNRE8X2ClFlC3ZJdKjDQrw3",
      "include_colab_link": true
    },
    "kernelspec": {
      "name": "python3",
      "display_name": "Python 3"
    },
    "language_info": {
      "name": "python"
    }
  },
  "cells": [
    {
      "cell_type": "markdown",
      "metadata": {
        "id": "view-in-github",
        "colab_type": "text"
      },
      "source": [
        "<a href=\"https://colab.research.google.com/github/fineday123/fineday123/blob/main/02.ipynb\" target=\"_parent\"><img src=\"https://colab.research.google.com/assets/colab-badge.svg\" alt=\"Open In Colab\"/></a>"
      ]
    },
    {
      "cell_type": "code",
      "execution_count": null,
      "metadata": {
        "id": "5DiSxoUDl1em",
        "colab": {
          "base_uri": "https://localhost:8080/",
          "height": 35
        },
        "outputId": "73d49a2d-0887-44e4-e0e7-7e10dbf67059"
      },
      "outputs": [
        {
          "output_type": "execute_result",
          "data": {
            "text/plain": [
              "'abc'"
            ],
            "application/vnd.google.colaboratory.intrinsic+json": {
              "type": "string"
            }
          },
          "metadata": {},
          "execution_count": 4
        }
      ],
      "source": [
        "# word and letter\n",
        "# 1] exchange large letter and small letter\n",
        "# 1) large to small\n",
        "l1 = 'ABC'\n",
        "l1.lower()"
      ]
    },
    {
      "cell_type": "markdown",
      "source": [],
      "metadata": {
        "id": "VduFvb6_NUF-"
      }
    },
    {
      "cell_type": "code",
      "source": [
        "# 2) small to large\n",
        "l2 = 'cbc'\n",
        "l2.upper()"
      ],
      "metadata": {
        "colab": {
          "base_uri": "https://localhost:8080/",
          "height": 35
        },
        "id": "aU3yZvQlN5df",
        "outputId": "4d37687e-710a-4a9f-9e0f-3ba461033084"
      },
      "execution_count": null,
      "outputs": [
        {
          "output_type": "execute_result",
          "data": {
            "text/plain": [
              "'CBC'"
            ],
            "application/vnd.google.colaboratory.intrinsic+json": {
              "type": "string"
            }
          },
          "metadata": {},
          "execution_count": 5
        }
      ]
    },
    {
      "cell_type": "code",
      "source": [
        "# 3) only first letter to large (in other word 'camel case' )\n",
        "l3 = 'park ki jin'\n",
        "l3.title()\n"
      ],
      "metadata": {
        "id": "M84WtsOvN5fN",
        "outputId": "dfd1d007-1806-4777-c5e6-da16a50e7a01",
        "colab": {
          "base_uri": "https://localhost:8080/",
          "height": 35
        }
      },
      "execution_count": 1,
      "outputs": [
        {
          "output_type": "execute_result",
          "data": {
            "text/plain": [
              "'Park Ki Jin'"
            ],
            "application/vnd.google.colaboratory.intrinsic+json": {
              "type": "string"
            }
          },
          "metadata": {},
          "execution_count": 1
        }
      ]
    },
    {
      "cell_type": "code",
      "source": [
        "# 2] indexing (extracting nominated letter)\n",
        "# 1) extracting first letter\n",
        "'abcd'[0]"
      ],
      "metadata": {
        "id": "7VJAXOqXUSUd",
        "outputId": "edc40c06-34b0-4b79-afb7-e018530b5fba",
        "colab": {
          "base_uri": "https://localhost:8080/",
          "height": 35
        }
      },
      "execution_count": 5,
      "outputs": [
        {
          "output_type": "execute_result",
          "data": {
            "text/plain": [
              "'a'"
            ],
            "application/vnd.google.colaboratory.intrinsic+json": {
              "type": "string"
            }
          },
          "metadata": {},
          "execution_count": 5
        }
      ]
    },
    {
      "cell_type": "code",
      "source": [
        "# 2) extracting over two letters\n",
        "'abcd'[0:3]"
      ],
      "metadata": {
        "id": "r1ssFLDKU1q4",
        "outputId": "23e692ea-9173-40e9-9cf4-030485f76110",
        "colab": {
          "base_uri": "https://localhost:8080/",
          "height": 35
        }
      },
      "execution_count": 6,
      "outputs": [
        {
          "output_type": "execute_result",
          "data": {
            "text/plain": [
              "'abc'"
            ],
            "application/vnd.google.colaboratory.intrinsic+json": {
              "type": "string"
            }
          },
          "metadata": {},
          "execution_count": 6
        }
      ]
    },
    {
      "cell_type": "code",
      "source": [
        "# 3) extracting <area code> in tel numbers\n",
        "'031)456-1234'[0:3]"
      ],
      "metadata": {
        "id": "S7VpujNdVk1D",
        "outputId": "35a80c50-cc01-4e9b-9ab8-92fb9d2d01fc",
        "colab": {
          "base_uri": "https://localhost:8080/",
          "height": 35
        }
      },
      "execution_count": 8,
      "outputs": [
        {
          "output_type": "execute_result",
          "data": {
            "text/plain": [
              "'031'"
            ],
            "application/vnd.google.colaboratory.intrinsic+json": {
              "type": "string"
            }
          },
          "metadata": {},
          "execution_count": 8
        }
      ]
    },
    {
      "cell_type": "code",
      "source": [
        "# 3] string"
      ],
      "metadata": {
        "id": "VQkiRrURWucx"
      },
      "execution_count": null,
      "outputs": []
    }
  ]
}